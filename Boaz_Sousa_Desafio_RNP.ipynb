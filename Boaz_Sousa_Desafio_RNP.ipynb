{
  "cells": [
    {
      "cell_type": "markdown",
      "metadata": {
        "id": "view-in-github",
        "colab_type": "text"
      },
      "source": [
        "<a href=\"https://colab.research.google.com/github/boazcosta/Flor-de-Mandacaru/blob/master/Boaz_Sousa_Desafio_RNP.ipynb\" target=\"_parent\"><img src=\"https://colab.research.google.com/assets/colab-badge.svg\" alt=\"Open In Colab\"/></a>"
      ]
    },
    {
      "cell_type": "markdown",
      "metadata": {
        "id": "QGQMbiJqWPZ-"
      },
      "source": [
        "\n",
        "\n",
        "* Discente: Boaz de Sousa Costa\n",
        "* Disciplina: Tópicos Avançados em Redes de Computadores\n",
        "* Data Challenge CT-Mon/RNP\n",
        "\n",
        "\n",
        "\n",
        "\n"
      ]
    },
    {
      "cell_type": "code",
      "execution_count": null,
      "metadata": {
        "colab": {
          "base_uri": "https://localhost:8080/"
        },
        "id": "O3Sd3sniGkcE",
        "outputId": "8b48c4a2-ea38-441e-bee5-564b39712920"
      },
      "outputs": [
        {
          "output_type": "stream",
          "name": "stdout",
          "text": [
            "Mounted at /content/drive\n"
          ]
        }
      ],
      "source": [
        "# Conexão do Google Drive\n",
        "from google.colab import drive\n",
        "drive.mount('/content/drive')"
      ]
    },
    {
      "cell_type": "code",
      "execution_count": null,
      "metadata": {
        "id": "dwy6KpV2HFSy"
      },
      "outputs": [],
      "source": [
        "# Bibliotecas e Pacotes que Utilizei\n",
        "import os\n",
        "import json\n",
        "import pandas as pd\n",
        "import numpy as np\n",
        "from sklearn.ensemble import RandomForestRegressor\n",
        "from sklearn.metrics import mean_absolute_percentage_error\n",
        "from sklearn.model_selection import train_test_split\n",
        "from glob import glob\n",
        "import csv\n",
        "from sklearn.model_selection import train_test_split, cross_val_score"
      ]
    },
    {
      "cell_type": "code",
      "execution_count": null,
      "metadata": {
        "id": "LKF2nRpWOdmT"
      },
      "outputs": [],
      "source": [
        "# Caminhos dos arquivos no meu Drive\n",
        "test_path = '/content/drive/MyDrive/open-data-challenge-ct-mon-rnp/Test'\n",
        "train_path = '/content/drive/MyDrive/open-data-challenge-ct-mon-rnp/Train'"
      ]
    },
    {
      "cell_type": "code",
      "execution_count": null,
      "metadata": {
        "id": "1jRJ24dq8_Wf"
      },
      "outputs": [],
      "source": [
        "# Clientes e Servidores\n",
        "dash_paths = glob(os.path.join(train_path, 'dash', '*', '*'))\n",
        "clientes_servidores = {'ba': 0, 'rj': 1, 'ce': 0, 'df': 1, 'es': 2, 'pi': 3}"
      ]
    },
    {
      "cell_type": "code",
      "execution_count": null,
      "metadata": {
        "id": "TloABqRV9Car"
      },
      "outputs": [],
      "source": [
        "# Função para processar arquivos DASH\n",
        "def process_dash(path):\n",
        "    dash_values = []\n",
        "    files = glob(os.path.join(path, '*.jsonl'))\n",
        "    for file_path in files:\n",
        "        with open(file_path, 'r') as file:\n",
        "            lines = file.readlines()\n",
        "            for line in lines[:-1]:\n",
        "                data = json.loads(line)\n",
        "                dash_values.append({\n",
        "                    'timestamp': pd.to_datetime(data['timestamp'], unit='s'),\n",
        "                    'rate': data['rate']\n",
        "                })\n",
        "    return dash_values"
      ]
    },
    {
      "cell_type": "code",
      "execution_count": null,
      "metadata": {
        "id": "pauDdflc9Gfm"
      },
      "outputs": [],
      "source": [
        "# Função para agregar dados\n",
        "def aggregate_dash(dash_data):\n",
        "    dash_serie = pd.DataFrame(dash_data)\n",
        "    dash_serie.set_index(\"timestamp\", inplace=True)\n",
        "    dash_serie = dash_serie.sort_index()\n",
        "    dash_serie_5min = dash_serie.resample('5min').agg({'rate': ['mean', 'std']}).dropna()\n",
        "    return dash_serie_5min"
      ]
    },
    {
      "cell_type": "code",
      "execution_count": null,
      "metadata": {
        "id": "s_d--NmZRk3D"
      },
      "outputs": [],
      "source": [
        "# Processar e consolidar dados de treino\n",
        "X = []\n",
        "y = []\n",
        "\n",
        "for path in dash_paths:\n",
        "    cliente = path.split('/')[-2]\n",
        "    servidor = path.split('/')[-1]\n",
        "\n",
        "    dash_data = process_dash(path)\n",
        "    dash_serie_5min = aggregate_dash(dash_data)\n",
        "\n",
        "    grouped = [dash_serie_5min.iloc[i:i+12] for i in range(0, len(dash_serie_5min), 12) if len(dash_serie_5min.iloc[i:i+12]) == 12]\n",
        "\n",
        "    for group in grouped:\n",
        "        X.append([\n",
        "            clientes_servidores[cliente],\n",
        "            clientes_servidores[servidor],\n",
        "            group[('rate', 'mean')].iloc[0:10].mean(),\n",
        "            group[('rate', 'std')].iloc[0:10].mean(),\n",
        "            group[('rate', 'mean')].iloc[9],\n",
        "            group[('rate', 'std')].iloc[9]\n",
        "        ])\n",
        "        y.append([\n",
        "            group[('rate', 'mean')].iloc[10],  # 5min\n",
        "            group[('rate', 'std')].iloc[10],   # 5min\n",
        "            group[('rate', 'mean')].iloc[11],  # 10min\n",
        "            group[('rate', 'std')].iloc[11]    # 10min\n",
        "        ])"
      ]
    },
    {
      "cell_type": "code",
      "execution_count": null,
      "metadata": {
        "id": "6Boz7Px_yoF_"
      },
      "outputs": [],
      "source": [
        "# Complemento da Função\n",
        "X_np = np.array(X)\n",
        "y_np = np.array(y)"
      ]
    },
    {
      "cell_type": "code",
      "execution_count": null,
      "metadata": {
        "id": "W7BI3R8jylA9"
      },
      "outputs": [],
      "source": [
        "# Divisão em treino e teste\n",
        "X_train, X_test, y_train, y_test = train_test_split(X_np, y_np, test_size=0.05, random_state=42)"
      ]
    },
    {
      "cell_type": "code",
      "execution_count": null,
      "metadata": {
        "id": "kh5cTLxLSrP2"
      },
      "outputs": [],
      "source": [
        "# Ajustes de hiperparâmetros\n",
        "rf_regressor = RandomForestRegressor(\n",
        "    n_estimators=3,\n",
        "    max_features=0.3,\n",
        "    max_depth=15,\n",
        "    min_samples_split=2,\n",
        "    min_samples_leaf=162,\n",
        "    random_state=67\n",
        "\n",
        ")"
      ]
    },
    {
      "cell_type": "code",
      "execution_count": null,
      "metadata": {
        "colab": {
          "base_uri": "https://localhost:8080/"
        },
        "id": "I7v_GAyb_JL0",
        "outputId": "2842cc34-e563-4d2e-e85d-55233a910e5e"
      },
      "outputs": [
        {
          "output_type": "stream",
          "name": "stdout",
          "text": [
            "Cross-validation MAPE for Mean Rate (5min): 0.1176683202\n",
            "Cross-validation MAPE for Std Rate (5min): 0.0902586340\n",
            "Cross-validation MAPE for Mean Rate (10min): 0.3937239932\n",
            "Cross-validation MAPE for Std Rate (10min): 0.2147305568\n"
          ]
        }
      ],
      "source": [
        "# Validação cruzada para avaliar a generalização\n",
        "for i, target in enumerate([\"Mean Rate (5min)\", \"Std Rate (5min)\", \"Mean Rate (10min)\", \"Std Rate (10min)\"]):\n",
        "    scores = cross_val_score(rf_regressor, X_train, y_train[:, i], cv=5, scoring=\"neg_mean_absolute_percentage_error\")\n",
        "    print(f\"Cross-validation MAPE for {target}: {-np.mean(scores):.10f}\")"
      ]
    },
    {
      "cell_type": "code",
      "execution_count": null,
      "metadata": {
        "colab": {
          "base_uri": "https://localhost:8080/"
        },
        "id": "uVz1W1h8_PN1",
        "outputId": "733941a4-5a22-4df3-ccf2-7236c098fd95"
      },
      "outputs": [
        {
          "output_type": "stream",
          "name": "stdout",
          "text": [
            "MAPE Mean Rate (5min): 0.0785841175\n",
            "MAPE Std Rate (5min): 0.0768569738\n",
            "MAPE Mean Rate (10min): 0.0763323598\n",
            "MAPE Std Rate (10min): 0.0760710438\n"
          ]
        }
      ],
      "source": [
        "# Treinamento do modelo para os dados de teste (sem re-treinar com todo o conjunto)\n",
        "for i, target in enumerate([\"Mean Rate (5min)\", \"Std Rate (5min)\", \"Mean Rate (10min)\", \"Std Rate (10min)\"]):\n",
        "    rf_regressor.fit(X_train, y_train[:, i])  # Apenas com os dados de treino\n",
        "    y_pred = rf_regressor.predict(X_test)  # Previsões nos dados de teste\n",
        "    mape = mean_absolute_percentage_error(y_test[:, i], y_pred)\n",
        "    print(f\"MAPE {target}: {mape:.10f}\")"
      ]
    },
    {
      "cell_type": "code",
      "execution_count": null,
      "metadata": {
        "id": "bk75r0I2A54k"
      },
      "outputs": [],
      "source": [
        "# Processamento dos dados de teste\n",
        "features = []\n",
        "submission = []\n",
        "\n",
        "Test_jsons = glob(os.path.join(test_path, \"*.json\"))\n",
        "for test in Test_jsons:\n",
        "    with open(test, 'r') as file:\n",
        "        data = json.load(file)\n",
        "        submission.append([test.split('/')[-1].split('.')[0]])\n",
        "\n",
        "        rates_mean = []\n",
        "        rates_std = []\n",
        "        for dash in data['dash']:\n",
        "            rates_mean.append(np.array(dash['rate']).mean())\n",
        "            rates_std.append(np.array(dash['rate']).std())\n",
        "\n",
        "        features.append([\n",
        "            clientes_servidores[data['cliente']],\n",
        "            clientes_servidores[data['servidor']],\n",
        "            np.array(rates_mean).mean(),\n",
        "            np.array(rates_mean).std(),\n",
        "            rates_mean[-1],\n",
        "            rates_std[-1]\n",
        "        ])\n",
        "\n",
        "features_np = np.array(features)"
      ]
    },
    {
      "cell_type": "code",
      "execution_count": null,
      "metadata": {
        "id": "l2C11zWtL9Uk"
      },
      "outputs": [],
      "source": [
        "# Previsões para submissão\n",
        "for i in range(4):\n",
        "    rf_regressor.fit(X_train, y_train[:, i])  # Certifique-se de treinar com os dados de treino\n",
        "    y_pred = rf_regressor.predict(features_np)  # Previsões com os dados de teste\n",
        "    for j, y_pred_value in enumerate(y_pred):\n",
        "        submission[j].append(y_pred_value)"
      ]
    },
    {
      "cell_type": "code",
      "execution_count": null,
      "metadata": {
        "colab": {
          "base_uri": "https://localhost:8080/"
        },
        "id": "XBPOKiQUy5Dw",
        "outputId": "d24cfd9f-a547-4bab-f36a-2b504261759b"
      },
      "outputs": [
        {
          "output_type": "stream",
          "name": "stdout",
          "text": [
            "Arquivo de submissão criado com sucesso!\n"
          ]
        }
      ],
      "source": [
        "# Geração do arquivo de submissão\n",
        "header = [\"id\", \"mean_1\", \"stdev_1\", \"mean_2\", \"stdev_2\"]\n",
        "\n",
        "with open(\"output_f11.csv\", mode=\"w\", newline=\"\", encoding=\"utf-8\") as file:\n",
        "    writer = csv.writer(file)\n",
        "    writer.writerow(header)\n",
        "    writer.writerows(submission)\n",
        "\n",
        "print(\"Arquivo de submissão criado com sucesso!\")"
      ]
    }
  ],
  "metadata": {
    "colab": {
      "provenance": [],
      "include_colab_link": true
    },
    "kernelspec": {
      "display_name": "Python 3",
      "name": "python3"
    },
    "language_info": {
      "name": "python"
    }
  },
  "nbformat": 4,
  "nbformat_minor": 0
}